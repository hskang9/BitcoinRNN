{
 "cells": [
  {
   "cell_type": "code",
   "execution_count": 2,
   "metadata": {},
   "outputs": [
    {
     "name": "stderr",
     "output_type": "stream",
     "text": [
      "/Users/hyungsukkang/anaconda2/lib/python2.7/site-packages/ipykernel_launcher.py:5: FutureWarning: reshape is deprecated and will raise in a subsequent release. Please use .values.reshape(...) instead\n",
      "  \"\"\"\n"
     ]
    },
    {
     "data": {
      "image/png": "[encoded data removed]",
      "text/plain": [
       "<matplotlib.figure.Figure at 0x10bcd9e90>"
      ]
     },
     "metadata": {},
     "output_type": "display_data"
    },
    {
     "data": {
      "text/plain": [
       "2     3003500.0\n",
       "14    3003500.0\n",
       "22    3017000.0\n",
       "32    3005000.0\n",
       "42    3006000.0\n",
       "Name: bid, dtype: float64"
      ]
     },
     "execution_count": 2,
     "metadata": {},
     "output_type": "execute_result"
    }
   ],
   "source": [
    "import pandas\n",
    "import matplotlib.pyplot as plt\n",
    "dataset = pandas.read_csv('bitcoin_ticker.csv', engine='python', skipfooter=3)\n",
    "dataset = dataset[dataset['rpt_key'] == \"btc_krw\"]['bid']\n",
    "dataset.reshape(len(dataset),1)\n",
    "plt.plot(dataset)\n",
    "plt.show()\n",
    "dataset.head()\n"
   ]
  },
  {
   "cell_type": "code",
   "execution_count": 3,
   "metadata": {},
   "outputs": [
    {
     "name": "stderr",
     "output_type": "stream",
     "text": [
      "Using TensorFlow backend.\n"
     ]
    }
   ],
   "source": [
    "\n",
    "import numpy\n",
    "import matplotlib.pyplot as plt\n",
    "import pandas\n",
    "import math\n",
    "from keras.models import Sequential\n",
    "from keras.layers import Dense\n",
    "from keras.layers import LSTM\n",
    "from sklearn.preprocessing import MinMaxScaler\n",
    "from sklearn.metrics import mean_squared_error"
   ]
  },
  {
   "cell_type": "code",
   "execution_count": 4,
   "metadata": {
    "collapsed": true
   },
   "outputs": [],
   "source": [
    "# fix random seed for reproducibility\n",
    "numpy.random.seed(7)"
   ]
  },
  {
   "cell_type": "code",
   "execution_count": 19,
   "metadata": {},
   "outputs": [],
   "source": [
    "# load the dataset\n",
    "dataset = pandas.read_csv('bitcoin_ticker.csv', engine='python', skipfooter=3)\n",
    "dataset = dataset[dataset['rpt_key'] == \"btc_krw\"]['bid'].values\n",
    "dataset = dataset.astype('float32')\n",
    "dataset = dataset.reshape(len(dataset),1)"
   ]
  },
  {
   "cell_type": "code",
   "execution_count": 20,
   "metadata": {},
   "outputs": [],
   "source": [
    "# normalize the dataset\n",
    "scaler = MinMaxScaler(feature_range=(0, 1))\n",
    "dataset = scaler.fit_transform(dataset)"
   ]
  },
  {
   "cell_type": "code",
   "execution_count": 21,
   "metadata": {},
   "outputs": [
    {
     "name": "stdout",
     "output_type": "stream",
     "text": [
      "42021 20698\n"
     ]
    }
   ],
   "source": [
    "from sklearn.model_selection import train_test_split\n",
    "train, test = train_test_split(dataset, test_size=0.33, random_state=42)\n",
    "print len(train), len(test)"
   ]
  },
  {
   "cell_type": "code",
   "execution_count": 22,
   "metadata": {
    "collapsed": true
   },
   "outputs": [],
   "source": [
    "# convert an array of values into a dataset matrix\n",
    "def create_dataset(dataset, look_back=1):\n",
    "\tdataX, dataY = [], []\n",
    "\tfor i in range(len(dataset)-look_back-1):\n",
    "\t\ta = dataset[i:(i+look_back)]\n",
    "\t\tdataX.append(a)\n",
    "\t\tdataY.append(dataset[i + look_back])\n",
    "\treturn numpy.array(dataX), numpy.array(dataY)"
   ]
  },
  {
   "cell_type": "code",
   "execution_count": 23,
   "metadata": {
    "collapsed": true
   },
   "outputs": [],
   "source": [
    "# reshape into X=t and Y=t+1\n",
    "look_back = 1\n",
    "trainX, trainY = create_dataset(train, look_back)\n",
    "testX, testY = create_dataset(test, look_back)"
   ]
  },
  {
   "cell_type": "code",
   "execution_count": 24,
   "metadata": {
    "collapsed": true
   },
   "outputs": [],
   "source": [
    "# reshape input to be [samples, time steps, features]\n",
    "trainX = numpy.reshape(trainX, (trainX.shape[0], 1, trainX.shape[1]))\n",
    "testX = numpy.reshape(testX, (testX.shape[0], 1, testX.shape[1]))"
   ]
  },
  {
   "cell_type": "code",
   "execution_count": 25,
   "metadata": {},
   "outputs": [
    {
     "name": "stdout",
     "output_type": "stream",
     "text": [
      "Epoch 1/100\n",
      "4s - loss: 0.0237 - acc: 0.0000e+00\n",
      "Epoch 2/100\n",
      "3s - loss: 0.0075 - acc: 0.0000e+00\n",
      "Epoch 3/100\n",
      "3s - loss: 0.0074 - acc: 0.0000e+00\n",
      "Epoch 4/100\n",
      "3s - loss: 0.0073 - acc: 0.0000e+00\n",
      "Epoch 5/100\n",
      "3s - loss: 0.0072 - acc: 0.0000e+00\n",
      "Epoch 6/100\n",
      "3s - loss: 0.0072 - acc: 0.0000e+00\n",
      "Epoch 7/100\n",
      "3s - loss: 0.0072 - acc: 0.0000e+00\n",
      "Epoch 8/100\n",
      "3s - loss: 0.0072 - acc: 0.0000e+00\n",
      "Epoch 9/100\n",
      "3s - loss: 0.0072 - acc: 0.0000e+00\n",
      "Epoch 10/100\n",
      "3s - loss: 0.0072 - acc: 0.0000e+00\n",
      "Epoch 11/100\n",
      "3s - loss: 0.0072 - acc: 0.0000e+00\n",
      "Epoch 12/100\n",
      "3s - loss: 0.0072 - acc: 0.0000e+00\n",
      "Epoch 13/100\n",
      "3s - loss: 0.0072 - acc: 0.0000e+00\n",
      "Epoch 14/100\n",
      "3s - loss: 0.0072 - acc: 0.0000e+00\n",
      "Epoch 15/100\n",
      "3s - loss: 0.0072 - acc: 0.0000e+00\n",
      "Epoch 16/100\n",
      "3s - loss: 0.0072 - acc: 0.0000e+00\n",
      "Epoch 17/100\n",
      "3s - loss: 0.0072 - acc: 0.0000e+00\n",
      "Epoch 18/100\n",
      "3s - loss: 0.0072 - acc: 0.0000e+00\n",
      "Epoch 19/100\n",
      "3s - loss: 0.0072 - acc: 0.0000e+00\n",
      "Epoch 20/100\n",
      "3s - loss: 0.0072 - acc: 0.0000e+00\n",
      "Epoch 21/100\n",
      "3s - loss: 0.0072 - acc: 0.0000e+00\n",
      "Epoch 22/100\n",
      "3s - loss: 0.0072 - acc: 0.0000e+00\n",
      "Epoch 23/100\n",
      "3s - loss: 0.0072 - acc: 0.0000e+00\n",
      "Epoch 24/100\n",
      "3s - loss: 0.0072 - acc: 0.0000e+00\n",
      "Epoch 25/100\n",
      "3s - loss: 0.0072 - acc: 0.0000e+00\n",
      "Epoch 26/100\n",
      "3s - loss: 0.0072 - acc: 0.0000e+00\n",
      "Epoch 27/100\n",
      "3s - loss: 0.0072 - acc: 0.0000e+00\n",
      "Epoch 28/100\n",
      "3s - loss: 0.0072 - acc: 0.0000e+00\n",
      "Epoch 29/100\n",
      "3s - loss: 0.0072 - acc: 0.0000e+00\n",
      "Epoch 30/100\n",
      "3s - loss: 0.0072 - acc: 0.0000e+00\n",
      "Epoch 31/100\n",
      "3s - loss: 0.0072 - acc: 0.0000e+00\n",
      "Epoch 32/100\n",
      "3s - loss: 0.0072 - acc: 0.0000e+00\n",
      "Epoch 33/100\n",
      "3s - loss: 0.0072 - acc: 0.0000e+00\n",
      "Epoch 34/100\n",
      "3s - loss: 0.0072 - acc: 0.0000e+00\n",
      "Epoch 35/100\n",
      "3s - loss: 0.0072 - acc: 0.0000e+00\n",
      "Epoch 36/100\n",
      "3s - loss: 0.0072 - acc: 0.0000e+00\n",
      "Epoch 37/100\n",
      "3s - loss: 0.0072 - acc: 0.0000e+00\n",
      "Epoch 38/100\n",
      "3s - loss: 0.0072 - acc: 0.0000e+00\n",
      "Epoch 39/100\n",
      "3s - loss: 0.0072 - acc: 0.0000e+00\n",
      "Epoch 40/100\n",
      "3s - loss: 0.0072 - acc: 0.0000e+00\n",
      "Epoch 41/100\n",
      "3s - loss: 0.0072 - acc: 0.0000e+00\n",
      "Epoch 42/100\n",
      "3s - loss: 0.0072 - acc: 0.0000e+00\n",
      "Epoch 43/100\n",
      "3s - loss: 0.0072 - acc: 0.0000e+00\n",
      "Epoch 44/100\n",
      "3s - loss: 0.0072 - acc: 0.0000e+00\n",
      "Epoch 45/100\n",
      "3s - loss: 0.0072 - acc: 0.0000e+00\n",
      "Epoch 46/100\n",
      "3s - loss: 0.0072 - acc: 0.0000e+00\n",
      "Epoch 47/100\n",
      "3s - loss: 0.0072 - acc: 0.0000e+00\n",
      "Epoch 48/100\n",
      "3s - loss: 0.0072 - acc: 0.0000e+00\n",
      "Epoch 49/100\n",
      "3s - loss: 0.0072 - acc: 0.0000e+00\n",
      "Epoch 50/100\n",
      "3s - loss: 0.0072 - acc: 0.0000e+00\n",
      "Epoch 51/100\n",
      "3s - loss: 0.0072 - acc: 0.0000e+00\n",
      "Epoch 52/100\n",
      "3s - loss: 0.0072 - acc: 0.0000e+00\n",
      "Epoch 53/100\n",
      "3s - loss: 0.0072 - acc: 0.0000e+00\n",
      "Epoch 54/100\n",
      "3s - loss: 0.0072 - acc: 0.0000e+00\n",
      "Epoch 55/100\n",
      "3s - loss: 0.0072 - acc: 0.0000e+00\n",
      "Epoch 56/100\n",
      "3s - loss: 0.0072 - acc: 0.0000e+00\n",
      "Epoch 57/100\n",
      "3s - loss: 0.0072 - acc: 0.0000e+00\n",
      "Epoch 58/100\n",
      "3s - loss: 0.0072 - acc: 0.0000e+00\n",
      "Epoch 59/100\n",
      "3s - loss: 0.0072 - acc: 0.0000e+00\n",
      "Epoch 60/100\n",
      "3s - loss: 0.0072 - acc: 0.0000e+00\n",
      "Epoch 61/100\n",
      "3s - loss: 0.0072 - acc: 0.0000e+00\n",
      "Epoch 62/100\n",
      "3s - loss: 0.0072 - acc: 0.0000e+00\n",
      "Epoch 63/100\n",
      "3s - loss: 0.0072 - acc: 0.0000e+00\n",
      "Epoch 64/100\n",
      "3s - loss: 0.0072 - acc: 0.0000e+00\n",
      "Epoch 65/100\n",
      "3s - loss: 0.0072 - acc: 0.0000e+00\n",
      "Epoch 66/100\n",
      "3s - loss: 0.0072 - acc: 0.0000e+00\n",
      "Epoch 67/100\n",
      "3s - loss: 0.0072 - acc: 0.0000e+00\n",
      "Epoch 68/100\n",
      "3s - loss: 0.0072 - acc: 0.0000e+00\n",
      "Epoch 69/100\n",
      "3s - loss: 0.0072 - acc: 0.0000e+00\n",
      "Epoch 70/100\n",
      "3s - loss: 0.0072 - acc: 0.0000e+00\n",
      "Epoch 71/100\n",
      "3s - loss: 0.0072 - acc: 0.0000e+00\n",
      "Epoch 72/100\n",
      "3s - loss: 0.0072 - acc: 0.0000e+00\n",
      "Epoch 73/100\n",
      "3s - loss: 0.0072 - acc: 0.0000e+00\n",
      "Epoch 74/100\n",
      "3s - loss: 0.0072 - acc: 0.0000e+00\n",
      "Epoch 75/100\n",
      "3s - loss: 0.0072 - acc: 0.0000e+00\n",
      "Epoch 76/100\n",
      "3s - loss: 0.0072 - acc: 0.0000e+00\n",
      "Epoch 77/100\n",
      "3s - loss: 0.0072 - acc: 0.0000e+00\n",
      "Epoch 78/100\n",
      "3s - loss: 0.0072 - acc: 0.0000e+00\n",
      "Epoch 79/100\n",
      "3s - loss: 0.0072 - acc: 0.0000e+00\n",
      "Epoch 80/100\n",
      "3s - loss: 0.0072 - acc: 0.0000e+00\n",
      "Epoch 81/100\n",
      "3s - loss: 0.0072 - acc: 0.0000e+00\n",
      "Epoch 82/100\n",
      "3s - loss: 0.0072 - acc: 0.0000e+00\n",
      "Epoch 83/100\n",
      "3s - loss: 0.0072 - acc: 0.0000e+00\n",
      "Epoch 84/100\n",
      "3s - loss: 0.0072 - acc: 0.0000e+00\n",
      "Epoch 85/100\n",
      "3s - loss: 0.0072 - acc: 0.0000e+00\n",
      "Epoch 86/100\n",
      "3s - loss: 0.0072 - acc: 0.0000e+00\n",
      "Epoch 87/100\n",
      "3s - loss: 0.0072 - acc: 0.0000e+00\n",
      "Epoch 88/100\n",
      "3s - loss: 0.0072 - acc: 0.0000e+00\n",
      "Epoch 89/100\n",
      "3s - loss: 0.0072 - acc: 0.0000e+00\n",
      "Epoch 90/100\n",
      "3s - loss: 0.0072 - acc: 0.0000e+00\n",
      "Epoch 91/100\n",
      "3s - loss: 0.0072 - acc: 0.0000e+00\n",
      "Epoch 92/100\n",
      "3s - loss: 0.0072 - acc: 0.0000e+00\n",
      "Epoch 93/100\n",
      "3s - loss: 0.0072 - acc: 0.0000e+00\n",
      "Epoch 94/100\n",
      "3s - loss: 0.0072 - acc: 0.0000e+00\n",
      "Epoch 95/100\n",
      "3s - loss: 0.0072 - acc: 0.0000e+00\n",
      "Epoch 96/100\n",
      "3s - loss: 0.0072 - acc: 0.0000e+00\n",
      "Epoch 97/100\n",
      "3s - loss: 0.0072 - acc: 0.0000e+00\n",
      "Epoch 98/100\n",
      "3s - loss: 0.0072 - acc: 0.0000e+00\n",
      "Epoch 99/100\n",
      "3s - loss: 0.0072 - acc: 0.0000e+00\n",
      "Epoch 100/100\n",
      "3s - loss: 0.0072 - acc: 0.0000e+00\n"
     ]
    },
    {
     "data": {
      "text/plain": [
       "<keras.callbacks.History at 0x13aa897d0>"
      ]
     },
     "execution_count": 25,
     "metadata": {},
     "output_type": "execute_result"
    }
   ],
   "source": [
    "# create and fit the LSTM network\n",
    "model = Sequential()\n",
    "model.add(LSTM(4, input_shape=(1, look_back)))\n",
    "model.add(Dense(1))\n",
    "model.compile(loss='mean_squared_error', optimizer='adam', metrics=['accuracy'])\n",
    "model.fit(trainX, trainY, epochs=100, batch_size=100, verbose=2)"
   ]
  },
  {
   "cell_type": "code",
   "execution_count": 26,
   "metadata": {},
   "outputs": [
    {
     "ename": "ValueError",
     "evalue": "Found array with dim 3. Estimator expected <= 2.",
     "output_type": "error",
     "traceback": [
      "\u001b[0;31m---------------------------------------------------------------------------\u001b[0m",
      "\u001b[0;31mValueError\u001b[0m                                Traceback (most recent call last)",
      "\u001b[0;32m<ipython-input-26-f86e1651271b>\u001b[0m in \u001b[0;36m<module>\u001b[0;34m()\u001b[0m\n\u001b[1;32m      4\u001b[0m \u001b[0;31m# invert predictions\u001b[0m\u001b[0;34m\u001b[0m\u001b[0;34m\u001b[0m\u001b[0m\n\u001b[1;32m      5\u001b[0m \u001b[0mtrainPredict\u001b[0m \u001b[0;34m=\u001b[0m \u001b[0mscaler\u001b[0m\u001b[0;34m.\u001b[0m\u001b[0minverse_transform\u001b[0m\u001b[0;34m(\u001b[0m\u001b[0mtrainPredict\u001b[0m\u001b[0;34m)\u001b[0m\u001b[0;34m\u001b[0m\u001b[0m\n\u001b[0;32m----> 6\u001b[0;31m \u001b[0mtrainY\u001b[0m \u001b[0;34m=\u001b[0m \u001b[0mscaler\u001b[0m\u001b[0;34m.\u001b[0m\u001b[0minverse_transform\u001b[0m\u001b[0;34m(\u001b[0m\u001b[0;34m[\u001b[0m\u001b[0mtrainY\u001b[0m\u001b[0;34m]\u001b[0m\u001b[0;34m)\u001b[0m\u001b[0;34m\u001b[0m\u001b[0m\n\u001b[0m\u001b[1;32m      7\u001b[0m \u001b[0mtestPredict\u001b[0m \u001b[0;34m=\u001b[0m \u001b[0mscaler\u001b[0m\u001b[0;34m.\u001b[0m\u001b[0minverse_transform\u001b[0m\u001b[0;34m(\u001b[0m\u001b[0mtestPredict\u001b[0m\u001b[0;34m)\u001b[0m\u001b[0;34m\u001b[0m\u001b[0m\n\u001b[1;32m      8\u001b[0m \u001b[0mtestY\u001b[0m \u001b[0;34m=\u001b[0m \u001b[0mscaler\u001b[0m\u001b[0;34m.\u001b[0m\u001b[0minverse_transform\u001b[0m\u001b[0;34m(\u001b[0m\u001b[0;34m[\u001b[0m\u001b[0mtestY\u001b[0m\u001b[0;34m]\u001b[0m\u001b[0;34m)\u001b[0m\u001b[0;34m\u001b[0m\u001b[0m\n",
      "\u001b[0;32m/Users/hyungsukkang/anaconda2/lib/python2.7/site-packages/sklearn/preprocessing/data.pyc\u001b[0m in \u001b[0;36minverse_transform\u001b[0;34m(self, X)\u001b[0m\n\u001b[1;32m    370\u001b[0m         \u001b[0mcheck_is_fitted\u001b[0m\u001b[0;34m(\u001b[0m\u001b[0mself\u001b[0m\u001b[0;34m,\u001b[0m \u001b[0;34m'scale_'\u001b[0m\u001b[0;34m)\u001b[0m\u001b[0;34m\u001b[0m\u001b[0m\n\u001b[1;32m    371\u001b[0m \u001b[0;34m\u001b[0m\u001b[0m\n\u001b[0;32m--> 372\u001b[0;31m         \u001b[0mX\u001b[0m \u001b[0;34m=\u001b[0m \u001b[0mcheck_array\u001b[0m\u001b[0;34m(\u001b[0m\u001b[0mX\u001b[0m\u001b[0;34m,\u001b[0m \u001b[0mcopy\u001b[0m\u001b[0;34m=\u001b[0m\u001b[0mself\u001b[0m\u001b[0;34m.\u001b[0m\u001b[0mcopy\u001b[0m\u001b[0;34m,\u001b[0m \u001b[0mensure_2d\u001b[0m\u001b[0;34m=\u001b[0m\u001b[0mFalse\u001b[0m\u001b[0;34m,\u001b[0m \u001b[0mdtype\u001b[0m\u001b[0;34m=\u001b[0m\u001b[0mFLOAT_DTYPES\u001b[0m\u001b[0;34m)\u001b[0m\u001b[0;34m\u001b[0m\u001b[0m\n\u001b[0m\u001b[1;32m    373\u001b[0m         \u001b[0;32mif\u001b[0m \u001b[0mX\u001b[0m\u001b[0;34m.\u001b[0m\u001b[0mndim\u001b[0m \u001b[0;34m==\u001b[0m \u001b[0;36m1\u001b[0m\u001b[0;34m:\u001b[0m\u001b[0;34m\u001b[0m\u001b[0m\n\u001b[1;32m    374\u001b[0m             \u001b[0mwarnings\u001b[0m\u001b[0;34m.\u001b[0m\u001b[0mwarn\u001b[0m\u001b[0;34m(\u001b[0m\u001b[0mDEPRECATION_MSG_1D\u001b[0m\u001b[0;34m,\u001b[0m \u001b[0mDeprecationWarning\u001b[0m\u001b[0;34m)\u001b[0m\u001b[0;34m\u001b[0m\u001b[0m\n",
      "\u001b[0;32m/Users/hyungsukkang/anaconda2/lib/python2.7/site-packages/sklearn/utils/validation.pyc\u001b[0m in \u001b[0;36mcheck_array\u001b[0;34m(array, accept_sparse, dtype, order, copy, force_all_finite, ensure_2d, allow_nd, ensure_min_samples, ensure_min_features, warn_on_dtype, estimator)\u001b[0m\n\u001b[1;32m    403\u001b[0m         \u001b[0;32mif\u001b[0m \u001b[0;32mnot\u001b[0m \u001b[0mallow_nd\u001b[0m \u001b[0;32mand\u001b[0m \u001b[0marray\u001b[0m\u001b[0;34m.\u001b[0m\u001b[0mndim\u001b[0m \u001b[0;34m>=\u001b[0m \u001b[0;36m3\u001b[0m\u001b[0;34m:\u001b[0m\u001b[0;34m\u001b[0m\u001b[0m\n\u001b[1;32m    404\u001b[0m             raise ValueError(\"Found array with dim %d. %s expected <= 2.\"\n\u001b[0;32m--> 405\u001b[0;31m                              % (array.ndim, estimator_name))\n\u001b[0m\u001b[1;32m    406\u001b[0m         \u001b[0;32mif\u001b[0m \u001b[0mforce_all_finite\u001b[0m\u001b[0;34m:\u001b[0m\u001b[0;34m\u001b[0m\u001b[0m\n\u001b[1;32m    407\u001b[0m             \u001b[0m_assert_all_finite\u001b[0m\u001b[0;34m(\u001b[0m\u001b[0marray\u001b[0m\u001b[0;34m)\u001b[0m\u001b[0;34m\u001b[0m\u001b[0m\n",
      "\u001b[0;31mValueError\u001b[0m: Found array with dim 3. Estimator expected <= 2."
     ]
    }
   ],
   "source": [
    "# make predictions\n",
    "trainPredict = model.predict(trainX)\n",
    "testPredict = model.predict(testX)\n",
    "# invert predictions\n",
    "trainPredict = scaler.inverse_transform(trainPredict)\n",
    "trainY = scaler.inverse_transform([trainY])\n",
    "testPredict = scaler.inverse_transform(testPredict)\n",
    "testY = scaler.inverse_transform([testY])\n",
    "# calculate root mean squared error\n",
    "trainScore = math.sqrt(mean_squared_error(trainY[0], trainPredict[:,0]))\n",
    "print('Train Score: %.2f RMSE' % (trainScore))\n",
    "testScore = math.sqrt(mean_squared_error(testY[0], testPredict[:,0]))\n",
    "print('Test Score: %.2f RMSE' % (testScore))"
   ]
  },
  {
   "cell_type": "code",
   "execution_count": 29,
   "metadata": {},
   "outputs": [
    {
     "name": "stdout",
     "output_type": "stream",
     "text": [
      "(62719, 1)\n"
     ]
    },
    {
     "data": {
      "image/png": "[encoded data removed]",
      "text/plain": [
       "<matplotlib.figure.Figure at 0x11d880950>"
      ]
     },
     "metadata": {},
     "output_type": "display_data"
    },
    {
     "data": {
      "text/plain": [
       "array([[        nan],\n",
       "       [        nan],\n",
       "       [        nan],\n",
       "       ..., \n",
       "       [ 0.37110168],\n",
       "       [ 0.37100956],\n",
       "       [        nan]], dtype=float32)"
      ]
     },
     "execution_count": 29,
     "metadata": {},
     "output_type": "execute_result"
    }
   ],
   "source": [
    "# shift train predictions for plotting\n",
    "#dataset = dataset.reshape(len(dataset), 1)\n",
    "#print dataset.shape\n",
    "trainPredictPlot = numpy.empty_like(dataset)\n",
    "print trainPredictPlot.shape\n",
    "trainPredictPlot[:, :] = numpy.nan\n",
    "trainPredictPlot[look_back:len(trainPredict)+look_back, :] = trainPredict\n",
    "# shift test predictions for plotting\n",
    "testPredictPlot = numpy.empty_like(dataset)\n",
    "testPredictPlot[:, :] = numpy.nan\n",
    "testPredictPlot[len(trainPredict)+(look_back*2)+1:len(dataset)-1, :] = testPredict\n",
    "# plot baseline and predictions\n",
    "plt.plot(scaler.inverse_transform(dataset))\n",
    "plt.plot(trainPredictPlot)\n",
    "plt.plot(testPredictPlot)\n",
    "plt.show()"
   ]
  },
  {
   "cell_type": "code",
   "execution_count": null,
   "metadata": {
    "collapsed": true
   },
   "outputs": [],
   "source": []
  }
 ],
 "metadata": {
  "kernelspec": {
   "display_name": "Python 2",
   "language": "python",
   "name": "python2"
  },
  "language_info": {
   "codemirror_mode": {
    "name": "ipython",
    "version": 2
   },
   "file_extension": ".py",
   "mimetype": "text/x-python",
   "name": "python",
   "nbconvert_exporter": "python",
   "pygments_lexer": "ipython2",
   "version": "2.7.13"
  }
 },
 "nbformat": 4,
 "nbformat_minor": 2
}
